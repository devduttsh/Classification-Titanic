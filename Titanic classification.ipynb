{
 "cells": [
  {
   "cell_type": "code",
   "execution_count": 55,
   "id": "ab227f06",
   "metadata": {},
   "outputs": [],
   "source": [
    "import numpy as np\n",
    "import pandas as pd\n",
    "import matplotlib.pyplot as plt\n",
    "import os\n",
    "import seaborn as sns\n",
    "from sklearn.model_selection import train_test_split\n",
    "from sklearn.metrics import accuracy_score, fbeta_score\n",
    "\n",
    "import warnings\n",
    "warnings.filterwarnings('ignore')\n",
    "\n",
    "# Importing Classifier Modules\n",
    "from sklearn.svm import SVC, LinearSVC\n",
    "from sklearn.neighbors import KNeighborsClassifier\n",
    "from sklearn.tree import DecisionTreeClassifier\n",
    "from sklearn.naive_bayes import GaussianNB\n",
    "from sklearn.linear_model import Perceptron\n",
    "from sklearn.linear_model import SGDClassifier\n",
    "from sklearn.ensemble import GradientBoostingClassifier\n",
    "from sklearn.ensemble import AdaBoostClassifier, RandomForestClassifier\n",
    "from sklearn.linear_model import LogisticRegression\n",
    "from sklearn.model_selection import GridSearchCV\n",
    "import pickle\n",
    "from sklearn.preprocessing import StandardScaler"
   ]
  },
  {
   "cell_type": "code",
   "execution_count": 3,
   "id": "e63e1b16",
   "metadata": {},
   "outputs": [
    {
     "data": {
      "text/plain": [
       "'C:\\\\Users\\\\Devdutt\\\\Desktop\\\\0Data Mining\\\\Assignment_3_23-1\\\\Assignment_3'"
      ]
     },
     "execution_count": 3,
     "metadata": {},
     "output_type": "execute_result"
    }
   ],
   "source": [
    "os.getcwd()"
   ]
  },
  {
   "cell_type": "code",
   "execution_count": 4,
   "id": "3792af0c",
   "metadata": {},
   "outputs": [],
   "source": [
    "titanic_train = pd.read_csv('Titanic Survival\\\\train.csv')"
   ]
  },
  {
   "cell_type": "code",
   "execution_count": 5,
   "id": "41bc9813",
   "metadata": {},
   "outputs": [
    {
     "data": {
      "text/html": [
       "<div>\n",
       "<style scoped>\n",
       "    .dataframe tbody tr th:only-of-type {\n",
       "        vertical-align: middle;\n",
       "    }\n",
       "\n",
       "    .dataframe tbody tr th {\n",
       "        vertical-align: top;\n",
       "    }\n",
       "\n",
       "    .dataframe thead th {\n",
       "        text-align: right;\n",
       "    }\n",
       "</style>\n",
       "<table border=\"1\" class=\"dataframe\">\n",
       "  <thead>\n",
       "    <tr style=\"text-align: right;\">\n",
       "      <th></th>\n",
       "      <th>PassengerId</th>\n",
       "      <th>Survived</th>\n",
       "      <th>Pclass</th>\n",
       "      <th>Name</th>\n",
       "      <th>Sex</th>\n",
       "      <th>Age</th>\n",
       "      <th>SibSp</th>\n",
       "      <th>Parch</th>\n",
       "      <th>Ticket</th>\n",
       "      <th>Fare</th>\n",
       "      <th>Cabin</th>\n",
       "      <th>Embarked</th>\n",
       "    </tr>\n",
       "  </thead>\n",
       "  <tbody>\n",
       "    <tr>\n",
       "      <th>0</th>\n",
       "      <td>1</td>\n",
       "      <td>0</td>\n",
       "      <td>3</td>\n",
       "      <td>Braund, Mr. Owen Harris</td>\n",
       "      <td>male</td>\n",
       "      <td>22.0</td>\n",
       "      <td>1</td>\n",
       "      <td>0</td>\n",
       "      <td>A/5 21171</td>\n",
       "      <td>7.2500</td>\n",
       "      <td>NaN</td>\n",
       "      <td>S</td>\n",
       "    </tr>\n",
       "    <tr>\n",
       "      <th>1</th>\n",
       "      <td>2</td>\n",
       "      <td>1</td>\n",
       "      <td>1</td>\n",
       "      <td>Cumings, Mrs. John Bradley (Florence Briggs Th...</td>\n",
       "      <td>female</td>\n",
       "      <td>38.0</td>\n",
       "      <td>1</td>\n",
       "      <td>0</td>\n",
       "      <td>PC 17599</td>\n",
       "      <td>71.2833</td>\n",
       "      <td>C85</td>\n",
       "      <td>C</td>\n",
       "    </tr>\n",
       "  </tbody>\n",
       "</table>\n",
       "</div>"
      ],
      "text/plain": [
       "   PassengerId  Survived  Pclass  \\\n",
       "0            1         0       3   \n",
       "1            2         1       1   \n",
       "\n",
       "                                                Name     Sex   Age  SibSp  \\\n",
       "0                            Braund, Mr. Owen Harris    male  22.0      1   \n",
       "1  Cumings, Mrs. John Bradley (Florence Briggs Th...  female  38.0      1   \n",
       "\n",
       "   Parch     Ticket     Fare Cabin Embarked  \n",
       "0      0  A/5 21171   7.2500   NaN        S  \n",
       "1      0   PC 17599  71.2833   C85        C  "
      ]
     },
     "execution_count": 5,
     "metadata": {},
     "output_type": "execute_result"
    }
   ],
   "source": [
    "titanic_train.head(2)"
   ]
  },
  {
   "cell_type": "code",
   "execution_count": 6,
   "id": "017df016",
   "metadata": {},
   "outputs": [
    {
     "data": {
      "text/plain": [
       "(891, 12)"
      ]
     },
     "execution_count": 6,
     "metadata": {},
     "output_type": "execute_result"
    }
   ],
   "source": [
    "titanic_train.shape"
   ]
  },
  {
   "cell_type": "code",
   "execution_count": 7,
   "id": "13c11609",
   "metadata": {},
   "outputs": [
    {
     "data": {
      "text/plain": [
       "PassengerId      int64\n",
       "Survived         int64\n",
       "Pclass           int64\n",
       "Name            object\n",
       "Sex             object\n",
       "Age            float64\n",
       "SibSp            int64\n",
       "Parch            int64\n",
       "Ticket          object\n",
       "Fare           float64\n",
       "Cabin           object\n",
       "Embarked        object\n",
       "dtype: object"
      ]
     },
     "execution_count": 7,
     "metadata": {},
     "output_type": "execute_result"
    }
   ],
   "source": [
    "titanic_train.dtypes"
   ]
  },
  {
   "cell_type": "markdown",
   "id": "e81280c2",
   "metadata": {},
   "source": [
    "#### Null percentage of columns"
   ]
  },
  {
   "cell_type": "code",
   "execution_count": 8,
   "id": "7dd4b2b4",
   "metadata": {},
   "outputs": [
    {
     "data": {
      "text/plain": [
       "PassengerId     0.00\n",
       "Survived        0.00\n",
       "Pclass          0.00\n",
       "Name            0.00\n",
       "Sex             0.00\n",
       "Age            19.87\n",
       "SibSp           0.00\n",
       "Parch           0.00\n",
       "Ticket          0.00\n",
       "Fare            0.00\n",
       "Cabin          77.10\n",
       "Embarked        0.22\n",
       "dtype: float64"
      ]
     },
     "execution_count": 8,
     "metadata": {},
     "output_type": "execute_result"
    }
   ],
   "source": [
    "((titanic_train.isnull().sum()*100)/titanic_train.shape[0]).round(2)"
   ]
  },
  {
   "cell_type": "markdown",
   "id": "56bb78c8",
   "metadata": {},
   "source": [
    "#### There are 3 columns with missing values:\n",
    "* Age\n",
    "* Cabin\n",
    "* Embarked"
   ]
  },
  {
   "cell_type": "markdown",
   "id": "d67ee15c",
   "metadata": {},
   "source": [
    "### Handling Nulls"
   ]
  },
  {
   "cell_type": "markdown",
   "id": "0371ca7d",
   "metadata": {},
   "source": [
    "#### Imputing \"Age\" with mean"
   ]
  },
  {
   "cell_type": "code",
   "execution_count": 9,
   "id": "e77fb9af",
   "metadata": {},
   "outputs": [
    {
     "name": "stdout",
     "output_type": "stream",
     "text": [
      "count    714.000000\n",
      "mean      29.699118\n",
      "std       14.526497\n",
      "min        0.420000\n",
      "25%       20.125000\n",
      "50%       28.000000\n",
      "75%       38.000000\n",
      "max       80.000000\n",
      "Name: Age, dtype: float64\n"
     ]
    },
    {
     "data": {
      "image/png": "[encoded data removed]",
      "text/plain": [
       "<Figure size 432x288 with 1 Axes>"
      ]
     },
     "metadata": {
      "needs_background": "light"
     },
     "output_type": "display_data"
    }
   ],
   "source": [
    "print(titanic_train['Age'].describe())\n",
    "\n",
    "sns.histplot(titanic_train[titanic_train['Age'].notnull()]['Age'],\n",
    "             kde = True, stat=\"density\", kde_kws=dict(cut=3))\n",
    "plt.show()"
   ]
  },
  {
   "cell_type": "code",
   "execution_count": 10,
   "id": "1dbe5829",
   "metadata": {},
   "outputs": [],
   "source": [
    "titanic_train['Age'].fillna(int(titanic_train['Age'].mean()), inplace=True)"
   ]
  },
  {
   "cell_type": "markdown",
   "id": "1ea3dc91",
   "metadata": {},
   "source": [
    "#### Dropping column \"Cabin\" since it is ~77% null values"
   ]
  },
  {
   "cell_type": "code",
   "execution_count": 11,
   "id": "96d80ad8",
   "metadata": {},
   "outputs": [
    {
     "data": {
      "text/plain": [
       "147"
      ]
     },
     "execution_count": 11,
     "metadata": {},
     "output_type": "execute_result"
    }
   ],
   "source": [
    "titanic_train['Cabin'].nunique()"
   ]
  },
  {
   "cell_type": "code",
   "execution_count": 12,
   "id": "0e084401",
   "metadata": {},
   "outputs": [],
   "source": [
    "titanic_train.drop(columns = ['Cabin'], inplace = True)"
   ]
  },
  {
   "cell_type": "markdown",
   "id": "aa60d06c",
   "metadata": {},
   "source": [
    "#### Replacing \"Embarked\" missing values with Mode"
   ]
  },
  {
   "cell_type": "code",
   "execution_count": 13,
   "id": "5b780a5b",
   "metadata": {},
   "outputs": [
    {
     "data": {
      "text/plain": [
       "S      72.28\n",
       "C      18.86\n",
       "Q       8.64\n",
       "NaN     0.22\n",
       "Name: Embarked, dtype: float64"
      ]
     },
     "execution_count": 13,
     "metadata": {},
     "output_type": "execute_result"
    }
   ],
   "source": [
    "round(titanic_train['Embarked'].value_counts(normalize = True, dropna=False)*100,2)"
   ]
  },
  {
   "cell_type": "code",
   "execution_count": 14,
   "id": "7eeb5fbf",
   "metadata": {},
   "outputs": [],
   "source": [
    "titanic_train['Embarked'].fillna('S', inplace=True)"
   ]
  },
  {
   "cell_type": "markdown",
   "id": "01735da2",
   "metadata": {},
   "source": [
    "#### Dropping \"PassengerId\", \"Name\", and \"Ticket\" columns"
   ]
  },
  {
   "cell_type": "code",
   "execution_count": 15,
   "id": "09e23af9",
   "metadata": {},
   "outputs": [],
   "source": [
    "titanic_train.drop(columns = ['PassengerId','Name','Ticket'], inplace = True)"
   ]
  },
  {
   "cell_type": "code",
   "execution_count": 16,
   "id": "de3c363e",
   "metadata": {},
   "outputs": [
    {
     "data": {
      "text/html": [
       "<div>\n",
       "<style scoped>\n",
       "    .dataframe tbody tr th:only-of-type {\n",
       "        vertical-align: middle;\n",
       "    }\n",
       "\n",
       "    .dataframe tbody tr th {\n",
       "        vertical-align: top;\n",
       "    }\n",
       "\n",
       "    .dataframe thead th {\n",
       "        text-align: right;\n",
       "    }\n",
       "</style>\n",
       "<table border=\"1\" class=\"dataframe\">\n",
       "  <thead>\n",
       "    <tr style=\"text-align: right;\">\n",
       "      <th></th>\n",
       "      <th>Survived</th>\n",
       "      <th>Pclass</th>\n",
       "      <th>Sex</th>\n",
       "      <th>Age</th>\n",
       "      <th>SibSp</th>\n",
       "      <th>Parch</th>\n",
       "      <th>Fare</th>\n",
       "      <th>Embarked</th>\n",
       "    </tr>\n",
       "  </thead>\n",
       "  <tbody>\n",
       "    <tr>\n",
       "      <th>0</th>\n",
       "      <td>0</td>\n",
       "      <td>3</td>\n",
       "      <td>male</td>\n",
       "      <td>22.0</td>\n",
       "      <td>1</td>\n",
       "      <td>0</td>\n",
       "      <td>7.2500</td>\n",
       "      <td>S</td>\n",
       "    </tr>\n",
       "    <tr>\n",
       "      <th>1</th>\n",
       "      <td>1</td>\n",
       "      <td>1</td>\n",
       "      <td>female</td>\n",
       "      <td>38.0</td>\n",
       "      <td>1</td>\n",
       "      <td>0</td>\n",
       "      <td>71.2833</td>\n",
       "      <td>C</td>\n",
       "    </tr>\n",
       "  </tbody>\n",
       "</table>\n",
       "</div>"
      ],
      "text/plain": [
       "   Survived  Pclass     Sex   Age  SibSp  Parch     Fare Embarked\n",
       "0         0       3    male  22.0      1      0   7.2500        S\n",
       "1         1       1  female  38.0      1      0  71.2833        C"
      ]
     },
     "execution_count": 16,
     "metadata": {},
     "output_type": "execute_result"
    }
   ],
   "source": [
    "titanic_train.head(2)"
   ]
  },
  {
   "cell_type": "markdown",
   "id": "d307368a",
   "metadata": {},
   "source": [
    "### Exploratory Data Analysis and Feature Mining"
   ]
  },
  {
   "cell_type": "markdown",
   "id": "bd0dc780",
   "metadata": {},
   "source": [
    "#### Pclass (Ticket class)"
   ]
  },
  {
   "cell_type": "code",
   "execution_count": 17,
   "id": "b3b80239",
   "metadata": {},
   "outputs": [
    {
     "data": {
      "image/png": "[encoded data removed]",
      "text/plain": [
       "<Figure size 432x288 with 1 Axes>"
      ]
     },
     "metadata": {
      "needs_background": "light"
     },
     "output_type": "display_data"
    }
   ],
   "source": [
    "sns.countplot(x='Pclass',data = titanic_train)\n",
    "plt.show()"
   ]
  },
  {
   "cell_type": "code",
   "execution_count": 18,
   "id": "afd2f501",
   "metadata": {},
   "outputs": [
    {
     "data": {
      "image/png": "[encoded data removed]",
      "text/plain": [
       "<Figure size 360x360 with 1 Axes>"
      ]
     },
     "metadata": {},
     "output_type": "display_data"
    }
   ],
   "source": [
    "sns.set(style=\"whitegrid\")\n",
    "g = sns.PairGrid(data=titanic_train, x_vars=['Pclass'], y_vars='Survived', height=5)\n",
    "g.map(sns.pointplot, color=sns.xkcd_rgb[\"red\"])\n",
    "g.set(ylim=(0, 1))\n",
    "plt.show()"
   ]
  },
  {
   "cell_type": "markdown",
   "id": "3811b47a",
   "metadata": {},
   "source": [
    "1st class passengers' survival rate is higher."
   ]
  },
  {
   "cell_type": "markdown",
   "id": "bdbb4aa9",
   "metadata": {},
   "source": [
    "#### Sex"
   ]
  },
  {
   "cell_type": "code",
   "execution_count": 19,
   "id": "a39aab7b",
   "metadata": {},
   "outputs": [
    {
     "data": {
      "image/png": "[encoded data removed]",
      "text/plain": [
       "<Figure size 360x360 with 1 Axes>"
      ]
     },
     "metadata": {},
     "output_type": "display_data"
    }
   ],
   "source": [
    "h = sns.PairGrid(data=titanic_train, x_vars=['Sex'], y_vars='Survived', height=5)\n",
    "h.map(sns.pointplot, color=\"red\")\n",
    "h.set(ylim=(0, 1))\n",
    "plt.show()"
   ]
  },
  {
   "cell_type": "markdown",
   "id": "a560f9cd",
   "metadata": {},
   "source": [
    "Female survival rate is higher."
   ]
  },
  {
   "cell_type": "markdown",
   "id": "d754677d",
   "metadata": {},
   "source": [
    "#### Combining SibSp and Parch to a single variable \"family\"\n",
    "SibSp = # of siblings/spouses aboard the Titanic\n",
    "\n",
    "Parch = # of parents/children aboard the Titanic"
   ]
  },
  {
   "cell_type": "code",
   "execution_count": 20,
   "id": "4d3fa1a0",
   "metadata": {},
   "outputs": [],
   "source": [
    "titanic_train['family'] = titanic_train['SibSp'] + titanic_train['Parch']"
   ]
  },
  {
   "cell_type": "code",
   "execution_count": 21,
   "id": "98610670",
   "metadata": {},
   "outputs": [
    {
     "data": {
      "image/png": "[encoded data removed]",
      "text/plain": [
       "<Figure size 432x288 with 1 Axes>"
      ]
     },
     "metadata": {},
     "output_type": "display_data"
    }
   ],
   "source": [
    "sns.countplot(x='family',data = titanic_train)\n",
    "plt.show()"
   ]
  },
  {
   "cell_type": "markdown",
   "id": "12fc1d0d",
   "metadata": {},
   "source": [
    "#### We observe that majority of the passengers are alone and make another column: \"is_alone\""
   ]
  },
  {
   "cell_type": "code",
   "execution_count": 22,
   "id": "2e0f8022",
   "metadata": {},
   "outputs": [
    {
     "data": {
      "image/png": "[encoded data removed]",
      "text/plain": [
       "<Figure size 432x288 with 1 Axes>"
      ]
     },
     "metadata": {},
     "output_type": "display_data"
    }
   ],
   "source": [
    "titanic_train['is_alone'] = titanic_train['family'].apply(lambda x: 1 if x == 0 else 0)\n",
    "sns.countplot(x='is_alone',data = titanic_train)\n",
    "plt.show()"
   ]
  },
  {
   "cell_type": "code",
   "execution_count": 23,
   "id": "af53c8be",
   "metadata": {},
   "outputs": [
    {
     "data": {
      "image/png": "[encoded data removed]",
      "text/plain": [
       "<Figure size 360x360 with 1 Axes>"
      ]
     },
     "metadata": {},
     "output_type": "display_data"
    }
   ],
   "source": [
    "h = sns.PairGrid(data=titanic_train, x_vars=['is_alone'], y_vars='Survived', height=5)\n",
    "h.map(sns.pointplot, color=\"red\")\n",
    "h.set(ylim=(0, 1))\n",
    "plt.show()"
   ]
  },
  {
   "cell_type": "markdown",
   "id": "d5e77302",
   "metadata": {},
   "source": [
    "People with no family members have a lower survival rate. "
   ]
  },
  {
   "cell_type": "markdown",
   "id": "517a8905",
   "metadata": {},
   "source": [
    "#### Making a \"is_child\" column from the Age column"
   ]
  },
  {
   "cell_type": "code",
   "execution_count": 24,
   "id": "8a567e4b",
   "metadata": {},
   "outputs": [],
   "source": [
    "titanic_train['is_child'] = titanic_train['Age'].apply(lambda x: 1 if x <= 15 else 0)"
   ]
  },
  {
   "cell_type": "code",
   "execution_count": 25,
   "id": "fb540952",
   "metadata": {},
   "outputs": [
    {
     "data": {
      "image/png": "[encoded data removed]",
      "text/plain": [
       "<Figure size 360x360 with 1 Axes>"
      ]
     },
     "metadata": {},
     "output_type": "display_data"
    }
   ],
   "source": [
    "h = sns.PairGrid(data=titanic_train, x_vars=['is_child'], y_vars='Survived', height=5)\n",
    "h.map(sns.pointplot, color=\"red\")\n",
    "h.set(ylim=(0, 1))\n",
    "plt.show()"
   ]
  },
  {
   "cell_type": "markdown",
   "id": "699b8748",
   "metadata": {},
   "source": [
    "Children's survival rate is higher."
   ]
  },
  {
   "cell_type": "markdown",
   "id": "9e9203e0",
   "metadata": {},
   "source": [
    "#### Converting categorical columns to dummy variables"
   ]
  },
  {
   "cell_type": "code",
   "execution_count": 26,
   "id": "1e0df08b",
   "metadata": {},
   "outputs": [],
   "source": [
    "titanic_train['is_female'] = titanic_train['Sex'].map({'male':0, 'female':1})"
   ]
  },
  {
   "cell_type": "code",
   "execution_count": 27,
   "id": "71b26acd",
   "metadata": {},
   "outputs": [],
   "source": [
    "titanic_train = pd.get_dummies(titanic_train, columns=['Embarked'], prefix = 'is')"
   ]
  },
  {
   "cell_type": "code",
   "execution_count": 28,
   "id": "52597878",
   "metadata": {},
   "outputs": [],
   "source": [
    "titanic_train.drop(columns = ['Parch','SibSp', 'Sex', 'family'], inplace = True)"
   ]
  },
  {
   "cell_type": "code",
   "execution_count": 29,
   "id": "ea7169fc",
   "metadata": {},
   "outputs": [
    {
     "data": {
      "text/html": [
       "<div>\n",
       "<style scoped>\n",
       "    .dataframe tbody tr th:only-of-type {\n",
       "        vertical-align: middle;\n",
       "    }\n",
       "\n",
       "    .dataframe tbody tr th {\n",
       "        vertical-align: top;\n",
       "    }\n",
       "\n",
       "    .dataframe thead th {\n",
       "        text-align: right;\n",
       "    }\n",
       "</style>\n",
       "<table border=\"1\" class=\"dataframe\">\n",
       "  <thead>\n",
       "    <tr style=\"text-align: right;\">\n",
       "      <th></th>\n",
       "      <th>Survived</th>\n",
       "      <th>Pclass</th>\n",
       "      <th>Age</th>\n",
       "      <th>Fare</th>\n",
       "      <th>is_alone</th>\n",
       "      <th>is_child</th>\n",
       "      <th>is_female</th>\n",
       "      <th>is_C</th>\n",
       "      <th>is_Q</th>\n",
       "      <th>is_S</th>\n",
       "    </tr>\n",
       "  </thead>\n",
       "  <tbody>\n",
       "    <tr>\n",
       "      <th>0</th>\n",
       "      <td>0</td>\n",
       "      <td>3</td>\n",
       "      <td>22.0</td>\n",
       "      <td>7.2500</td>\n",
       "      <td>0</td>\n",
       "      <td>0</td>\n",
       "      <td>0</td>\n",
       "      <td>0</td>\n",
       "      <td>0</td>\n",
       "      <td>1</td>\n",
       "    </tr>\n",
       "    <tr>\n",
       "      <th>1</th>\n",
       "      <td>1</td>\n",
       "      <td>1</td>\n",
       "      <td>38.0</td>\n",
       "      <td>71.2833</td>\n",
       "      <td>0</td>\n",
       "      <td>0</td>\n",
       "      <td>1</td>\n",
       "      <td>1</td>\n",
       "      <td>0</td>\n",
       "      <td>0</td>\n",
       "    </tr>\n",
       "    <tr>\n",
       "      <th>2</th>\n",
       "      <td>1</td>\n",
       "      <td>3</td>\n",
       "      <td>26.0</td>\n",
       "      <td>7.9250</td>\n",
       "      <td>1</td>\n",
       "      <td>0</td>\n",
       "      <td>1</td>\n",
       "      <td>0</td>\n",
       "      <td>0</td>\n",
       "      <td>1</td>\n",
       "    </tr>\n",
       "    <tr>\n",
       "      <th>3</th>\n",
       "      <td>1</td>\n",
       "      <td>1</td>\n",
       "      <td>35.0</td>\n",
       "      <td>53.1000</td>\n",
       "      <td>0</td>\n",
       "      <td>0</td>\n",
       "      <td>1</td>\n",
       "      <td>0</td>\n",
       "      <td>0</td>\n",
       "      <td>1</td>\n",
       "    </tr>\n",
       "    <tr>\n",
       "      <th>4</th>\n",
       "      <td>0</td>\n",
       "      <td>3</td>\n",
       "      <td>35.0</td>\n",
       "      <td>8.0500</td>\n",
       "      <td>1</td>\n",
       "      <td>0</td>\n",
       "      <td>0</td>\n",
       "      <td>0</td>\n",
       "      <td>0</td>\n",
       "      <td>1</td>\n",
       "    </tr>\n",
       "  </tbody>\n",
       "</table>\n",
       "</div>"
      ],
      "text/plain": [
       "   Survived  Pclass   Age     Fare  is_alone  is_child  is_female  is_C  is_Q  \\\n",
       "0         0       3  22.0   7.2500         0         0          0     0     0   \n",
       "1         1       1  38.0  71.2833         0         0          1     1     0   \n",
       "2         1       3  26.0   7.9250         1         0          1     0     0   \n",
       "3         1       1  35.0  53.1000         0         0          1     0     0   \n",
       "4         0       3  35.0   8.0500         1         0          0     0     0   \n",
       "\n",
       "   is_S  \n",
       "0     1  \n",
       "1     0  \n",
       "2     1  \n",
       "3     1  \n",
       "4     1  "
      ]
     },
     "execution_count": 29,
     "metadata": {},
     "output_type": "execute_result"
    }
   ],
   "source": [
    "titanic_train.head()"
   ]
  },
  {
   "cell_type": "markdown",
   "id": "12af7f52",
   "metadata": {},
   "source": [
    "#### Analyzing the Target column"
   ]
  },
  {
   "cell_type": "code",
   "execution_count": 30,
   "id": "5ff9241f",
   "metadata": {},
   "outputs": [
    {
     "data": {
      "image/png": "[encoded data removed]",
      "text/plain": [
       "<Figure size 432x288 with 1 Axes>"
      ]
     },
     "metadata": {},
     "output_type": "display_data"
    }
   ],
   "source": [
    "sns.countplot(x='Survived',data = titanic_train)\n",
    "plt.show()"
   ]
  },
  {
   "cell_type": "markdown",
   "id": "15bb03dd",
   "metadata": {},
   "source": [
    "### Modeling"
   ]
  },
  {
   "cell_type": "markdown",
   "id": "3396feb7",
   "metadata": {},
   "source": [
    "### Modeling"
   ]
  },
  {
   "cell_type": "markdown",
   "id": "e22f0c53",
   "metadata": {},
   "source": [
    "#### Splitting dataframe into target variable and feature set"
   ]
  },
  {
   "cell_type": "code",
   "execution_count": 31,
   "id": "40325b72",
   "metadata": {},
   "outputs": [],
   "source": [
    "X = titanic_train.iloc[:,1:]\n",
    "y = titanic_train.iloc[:,0]"
   ]
  },
  {
   "cell_type": "markdown",
   "id": "cccb17be",
   "metadata": {},
   "source": [
    "#### Splitting the 'feature set' and target variable into training and testing sets"
   ]
  },
  {
   "cell_type": "code",
   "execution_count": 32,
   "id": "7ac650f9",
   "metadata": {},
   "outputs": [
    {
     "name": "stdout",
     "output_type": "stream",
     "text": [
      "Training set has 712 samples.\n",
      "Testing set has 179 samples.\n"
     ]
    }
   ],
   "source": [
    "X_train, X_test, y_train, y_test = train_test_split(X, y, train_size = 0.8,\n",
    "                                                    test_size=0.2, random_state=0,\n",
    "                                                    stratify = y)\n",
    "\n",
    "print(\"Training set has {} samples.\".format(X_train.shape[0]))\n",
    "print(\"Testing set has {} samples.\".format(X_test.shape[0]))"
   ]
  },
  {
   "cell_type": "markdown",
   "id": "cbf58b9c",
   "metadata": {},
   "source": [
    "#### Function to train a model and return train and test accuracy"
   ]
  },
  {
   "cell_type": "code",
   "execution_count": 33,
   "id": "29b7870d",
   "metadata": {},
   "outputs": [],
   "source": [
    "def train_predict(learner, X_train, y_train, X_test, y_test):\n",
    "    \n",
    "    results = {}\n",
    "    \n",
    "    # Fit the learner to the training data\n",
    "    learner = learner.fit(X_train, y_train)\n",
    "         \n",
    "    # Get the predictions on the test set(X_test) and the training set(X_train)\n",
    "    predictions_test = learner.predict(X_test)\n",
    "    predictions_train = learner.predict(X_train)\n",
    "    \n",
    "    results['Model'] = learner.__class__.__name__\n",
    "    \n",
    "    # Compute accuracy on the training set\n",
    "    results['Train Accuracy'] = round(accuracy_score(y_train, predictions_train),4)\n",
    "        \n",
    "    # Compute accuracy on test set\n",
    "    results['Test Accuracy'] = round(accuracy_score(y_test, predictions_test),4)\n",
    "    \n",
    "    # Compute F-score on the training set\n",
    "    results['Train F-score'] = round(fbeta_score(y_train, predictions_train, beta = 0.5),4)\n",
    "        \n",
    "    #Compute F-score on the test set\n",
    "    results['Test F-score'] = round(fbeta_score(y_test, predictions_test, beta = 0.5),4)\n",
    "\n",
    "\n",
    "    # Return the results\n",
    "    return results"
   ]
  },
  {
   "cell_type": "markdown",
   "id": "b393dd5b",
   "metadata": {},
   "source": [
    "#### Initializing Models "
   ]
  },
  {
   "cell_type": "code",
   "execution_count": 34,
   "id": "19f2d418",
   "metadata": {},
   "outputs": [],
   "source": [
    "svc = SVC(random_state=100)\n",
    "linearsvc = LinearSVC(random_state=100)\n",
    "knn = KNeighborsClassifier()\n",
    "dectree = DecisionTreeClassifier(random_state=100)\n",
    "rforest = RandomForestClassifier(n_estimators = 100, random_state=100)\n",
    "gnb = GaussianNB()\n",
    "sgdc = SGDClassifier(random_state=100)\n",
    "adaboost = AdaBoostClassifier(random_state = 100)\n",
    "logreg = LogisticRegression(random_state=100)"
   ]
  },
  {
   "cell_type": "markdown",
   "id": "283fc411",
   "metadata": {},
   "source": [
    "#### Training the models and sorting by test accuracy"
   ]
  },
  {
   "cell_type": "code",
   "execution_count": 34,
   "id": "8af8e097",
   "metadata": {},
   "outputs": [],
   "source": [
    "model_list = [svc, linearsvc, knn, dectree, rforest, gnb, sgdc, adaboost, logreg]\n",
    "results = []\n",
    "\n",
    "for model in model_list:\n",
    "    results.append(train_predict(model, X_train, y_train, X_test, y_test))\n",
    "    \n",
    "model_df = pd.DataFrame(results, columns = ['Model','Train Accuracy','Test Accuracy','Train F-score',\n",
    "                                            'Test F-score']).sort_values('Test F-score', ascending = False)"
   ]
  },
  {
   "cell_type": "code",
   "execution_count": 35,
   "id": "f2c0291c",
   "metadata": {},
   "outputs": [
    {
     "data": {
      "text/html": [
       "<div>\n",
       "<style scoped>\n",
       "    .dataframe tbody tr th:only-of-type {\n",
       "        vertical-align: middle;\n",
       "    }\n",
       "\n",
       "    .dataframe tbody tr th {\n",
       "        vertical-align: top;\n",
       "    }\n",
       "\n",
       "    .dataframe thead th {\n",
       "        text-align: right;\n",
       "    }\n",
       "</style>\n",
       "<table border=\"1\" class=\"dataframe\">\n",
       "  <thead>\n",
       "    <tr style=\"text-align: right;\">\n",
       "      <th></th>\n",
       "      <th>Model</th>\n",
       "      <th>Train Accuracy</th>\n",
       "      <th>Test Accuracy</th>\n",
       "      <th>Train F-score</th>\n",
       "      <th>Test F-score</th>\n",
       "    </tr>\n",
       "  </thead>\n",
       "  <tbody>\n",
       "    <tr>\n",
       "      <th>8</th>\n",
       "      <td>LogisticRegression</td>\n",
       "      <td>0.8020</td>\n",
       "      <td>0.7821</td>\n",
       "      <td>0.7486</td>\n",
       "      <td>0.7309</td>\n",
       "    </tr>\n",
       "    <tr>\n",
       "      <th>7</th>\n",
       "      <td>AdaBoostClassifier</td>\n",
       "      <td>0.8385</td>\n",
       "      <td>0.7765</td>\n",
       "      <td>0.7949</td>\n",
       "      <td>0.7165</td>\n",
       "    </tr>\n",
       "    <tr>\n",
       "      <th>4</th>\n",
       "      <td>RandomForestClassifier</td>\n",
       "      <td>0.9817</td>\n",
       "      <td>0.7765</td>\n",
       "      <td>0.9814</td>\n",
       "      <td>0.7143</td>\n",
       "    </tr>\n",
       "    <tr>\n",
       "      <th>3</th>\n",
       "      <td>DecisionTreeClassifier</td>\n",
       "      <td>0.9817</td>\n",
       "      <td>0.7654</td>\n",
       "      <td>0.9879</td>\n",
       "      <td>0.7029</td>\n",
       "    </tr>\n",
       "    <tr>\n",
       "      <th>5</th>\n",
       "      <td>GaussianNB</td>\n",
       "      <td>0.7374</td>\n",
       "      <td>0.7598</td>\n",
       "      <td>0.6612</td>\n",
       "      <td>0.7018</td>\n",
       "    </tr>\n",
       "    <tr>\n",
       "      <th>1</th>\n",
       "      <td>LinearSVC</td>\n",
       "      <td>0.6826</td>\n",
       "      <td>0.7039</td>\n",
       "      <td>0.5336</td>\n",
       "      <td>0.6051</td>\n",
       "    </tr>\n",
       "    <tr>\n",
       "      <th>2</th>\n",
       "      <td>KNeighborsClassifier</td>\n",
       "      <td>0.8076</td>\n",
       "      <td>0.6927</td>\n",
       "      <td>0.7548</td>\n",
       "      <td>0.5980</td>\n",
       "    </tr>\n",
       "    <tr>\n",
       "      <th>0</th>\n",
       "      <td>SVC</td>\n",
       "      <td>0.6952</td>\n",
       "      <td>0.6313</td>\n",
       "      <td>0.5864</td>\n",
       "      <td>0.4404</td>\n",
       "    </tr>\n",
       "    <tr>\n",
       "      <th>6</th>\n",
       "      <td>SGDClassifier</td>\n",
       "      <td>0.3792</td>\n",
       "      <td>0.3799</td>\n",
       "      <td>0.4312</td>\n",
       "      <td>0.4334</td>\n",
       "    </tr>\n",
       "  </tbody>\n",
       "</table>\n",
       "</div>"
      ],
      "text/plain": [
       "                    Model  Train Accuracy  Test Accuracy  Train F-score  \\\n",
       "8      LogisticRegression          0.8020         0.7821         0.7486   \n",
       "7      AdaBoostClassifier          0.8385         0.7765         0.7949   \n",
       "4  RandomForestClassifier          0.9817         0.7765         0.9814   \n",
       "3  DecisionTreeClassifier          0.9817         0.7654         0.9879   \n",
       "5              GaussianNB          0.7374         0.7598         0.6612   \n",
       "1               LinearSVC          0.6826         0.7039         0.5336   \n",
       "2    KNeighborsClassifier          0.8076         0.6927         0.7548   \n",
       "0                     SVC          0.6952         0.6313         0.5864   \n",
       "6           SGDClassifier          0.3792         0.3799         0.4312   \n",
       "\n",
       "   Test F-score  \n",
       "8        0.7309  \n",
       "7        0.7165  \n",
       "4        0.7143  \n",
       "3        0.7029  \n",
       "5        0.7018  \n",
       "1        0.6051  \n",
       "2        0.5980  \n",
       "0        0.4404  \n",
       "6        0.4334  "
      ]
     },
     "execution_count": 35,
     "metadata": {},
     "output_type": "execute_result"
    }
   ],
   "source": [
    "model_df"
   ]
  },
  {
   "cell_type": "markdown",
   "id": "6205718e",
   "metadata": {},
   "source": [
    "### Scaling Numerical Features"
   ]
  },
  {
   "cell_type": "code",
   "execution_count": 36,
   "id": "3471b390",
   "metadata": {},
   "outputs": [],
   "source": [
    "scaler = StandardScaler()\n",
    "numerical = ['Pclass','Age','Fare']\n",
    "\n",
    "titanic_train_scaled = pd.DataFrame(data = titanic_train)\n",
    "titanic_train_scaled[numerical] = scaler.fit_transform(titanic_train[numerical])"
   ]
  },
  {
   "cell_type": "code",
   "execution_count": 37,
   "id": "6ad48308",
   "metadata": {},
   "outputs": [
    {
     "data": {
      "text/html": [
       "<div>\n",
       "<style scoped>\n",
       "    .dataframe tbody tr th:only-of-type {\n",
       "        vertical-align: middle;\n",
       "    }\n",
       "\n",
       "    .dataframe tbody tr th {\n",
       "        vertical-align: top;\n",
       "    }\n",
       "\n",
       "    .dataframe thead th {\n",
       "        text-align: right;\n",
       "    }\n",
       "</style>\n",
       "<table border=\"1\" class=\"dataframe\">\n",
       "  <thead>\n",
       "    <tr style=\"text-align: right;\">\n",
       "      <th></th>\n",
       "      <th>Survived</th>\n",
       "      <th>Pclass</th>\n",
       "      <th>Age</th>\n",
       "      <th>Fare</th>\n",
       "      <th>is_alone</th>\n",
       "      <th>is_child</th>\n",
       "      <th>is_female</th>\n",
       "      <th>is_C</th>\n",
       "      <th>is_Q</th>\n",
       "      <th>is_S</th>\n",
       "    </tr>\n",
       "  </thead>\n",
       "  <tbody>\n",
       "    <tr>\n",
       "      <th>0</th>\n",
       "      <td>0</td>\n",
       "      <td>0.827377</td>\n",
       "      <td>-0.581659</td>\n",
       "      <td>-0.502445</td>\n",
       "      <td>0</td>\n",
       "      <td>0</td>\n",
       "      <td>0</td>\n",
       "      <td>0</td>\n",
       "      <td>0</td>\n",
       "      <td>1</td>\n",
       "    </tr>\n",
       "    <tr>\n",
       "      <th>1</th>\n",
       "      <td>1</td>\n",
       "      <td>-1.566107</td>\n",
       "      <td>0.649327</td>\n",
       "      <td>0.786845</td>\n",
       "      <td>0</td>\n",
       "      <td>0</td>\n",
       "      <td>1</td>\n",
       "      <td>1</td>\n",
       "      <td>0</td>\n",
       "      <td>0</td>\n",
       "    </tr>\n",
       "  </tbody>\n",
       "</table>\n",
       "</div>"
      ],
      "text/plain": [
       "   Survived    Pclass       Age      Fare  is_alone  is_child  is_female  \\\n",
       "0         0  0.827377 -0.581659 -0.502445         0         0          0   \n",
       "1         1 -1.566107  0.649327  0.786845         0         0          1   \n",
       "\n",
       "   is_C  is_Q  is_S  \n",
       "0     0     0     1  \n",
       "1     1     0     0  "
      ]
     },
     "execution_count": 37,
     "metadata": {},
     "output_type": "execute_result"
    }
   ],
   "source": [
    "titanic_train_scaled.head(2)"
   ]
  },
  {
   "cell_type": "markdown",
   "id": "230b3396",
   "metadata": {},
   "source": [
    "#### Rerunning the models with scaled numerical features"
   ]
  },
  {
   "cell_type": "code",
   "execution_count": 38,
   "id": "dd8de78c",
   "metadata": {},
   "outputs": [],
   "source": [
    "X = titanic_train_scaled.iloc[:,1:]\n",
    "y = titanic_train_scaled.iloc[:,0]\n",
    "\n",
    "X_train, X_test, y_train, y_test = train_test_split(X, y, train_size = 0.8,\n",
    "                                                    test_size=0.2, random_state=0,\n",
    "                                                    stratify = y)\n",
    "\n",
    "model_list = [svc, linearsvc, knn, dectree, rforest, gnb, sgdc, adaboost, logreg]\n",
    "results2 = []\n",
    "\n",
    "for model in model_list:\n",
    "    results2.append(train_predict(model, X_train, y_train, X_test, y_test))\n",
    "    \n",
    "model_df2 = pd.DataFrame(results2, columns = ['Model','Train Accuracy','Test Accuracy','Train F-score',\n",
    "                                            'Test F-score']).sort_values('Test F-score', ascending = False)"
   ]
  },
  {
   "cell_type": "code",
   "execution_count": 39,
   "id": "af89fe67",
   "metadata": {},
   "outputs": [
    {
     "data": {
      "text/html": [
       "<div>\n",
       "<style scoped>\n",
       "    .dataframe tbody tr th:only-of-type {\n",
       "        vertical-align: middle;\n",
       "    }\n",
       "\n",
       "    .dataframe tbody tr th {\n",
       "        vertical-align: top;\n",
       "    }\n",
       "\n",
       "    .dataframe thead th {\n",
       "        text-align: right;\n",
       "    }\n",
       "</style>\n",
       "<table border=\"1\" class=\"dataframe\">\n",
       "  <thead>\n",
       "    <tr style=\"text-align: right;\">\n",
       "      <th></th>\n",
       "      <th>Model</th>\n",
       "      <th>Train Accuracy</th>\n",
       "      <th>Test Accuracy</th>\n",
       "      <th>Train F-score</th>\n",
       "      <th>Test F-score</th>\n",
       "    </tr>\n",
       "  </thead>\n",
       "  <tbody>\n",
       "    <tr>\n",
       "      <th>0</th>\n",
       "      <td>SVC</td>\n",
       "      <td>0.8329</td>\n",
       "      <td>0.7933</td>\n",
       "      <td>0.8149</td>\n",
       "      <td>0.7708</td>\n",
       "    </tr>\n",
       "    <tr>\n",
       "      <th>1</th>\n",
       "      <td>LinearSVC</td>\n",
       "      <td>0.7963</td>\n",
       "      <td>0.7989</td>\n",
       "      <td>0.7388</td>\n",
       "      <td>0.7541</td>\n",
       "    </tr>\n",
       "    <tr>\n",
       "      <th>8</th>\n",
       "      <td>LogisticRegression</td>\n",
       "      <td>0.7992</td>\n",
       "      <td>0.7933</td>\n",
       "      <td>0.7433</td>\n",
       "      <td>0.7443</td>\n",
       "    </tr>\n",
       "    <tr>\n",
       "      <th>4</th>\n",
       "      <td>RandomForestClassifier</td>\n",
       "      <td>0.9817</td>\n",
       "      <td>0.7821</td>\n",
       "      <td>0.9814</td>\n",
       "      <td>0.7231</td>\n",
       "    </tr>\n",
       "    <tr>\n",
       "      <th>2</th>\n",
       "      <td>KNeighborsClassifier</td>\n",
       "      <td>0.8610</td>\n",
       "      <td>0.7709</td>\n",
       "      <td>0.8276</td>\n",
       "      <td>0.7167</td>\n",
       "    </tr>\n",
       "    <tr>\n",
       "      <th>7</th>\n",
       "      <td>AdaBoostClassifier</td>\n",
       "      <td>0.8385</td>\n",
       "      <td>0.7765</td>\n",
       "      <td>0.7949</td>\n",
       "      <td>0.7165</td>\n",
       "    </tr>\n",
       "    <tr>\n",
       "      <th>3</th>\n",
       "      <td>DecisionTreeClassifier</td>\n",
       "      <td>0.9817</td>\n",
       "      <td>0.7654</td>\n",
       "      <td>0.9879</td>\n",
       "      <td>0.7029</td>\n",
       "    </tr>\n",
       "    <tr>\n",
       "      <th>5</th>\n",
       "      <td>GaussianNB</td>\n",
       "      <td>0.7374</td>\n",
       "      <td>0.7598</td>\n",
       "      <td>0.6612</td>\n",
       "      <td>0.7018</td>\n",
       "    </tr>\n",
       "    <tr>\n",
       "      <th>6</th>\n",
       "      <td>SGDClassifier</td>\n",
       "      <td>0.6503</td>\n",
       "      <td>0.6313</td>\n",
       "      <td>0.5478</td>\n",
       "      <td>0.5263</td>\n",
       "    </tr>\n",
       "  </tbody>\n",
       "</table>\n",
       "</div>"
      ],
      "text/plain": [
       "                    Model  Train Accuracy  Test Accuracy  Train F-score  \\\n",
       "0                     SVC          0.8329         0.7933         0.8149   \n",
       "1               LinearSVC          0.7963         0.7989         0.7388   \n",
       "8      LogisticRegression          0.7992         0.7933         0.7433   \n",
       "4  RandomForestClassifier          0.9817         0.7821         0.9814   \n",
       "2    KNeighborsClassifier          0.8610         0.7709         0.8276   \n",
       "7      AdaBoostClassifier          0.8385         0.7765         0.7949   \n",
       "3  DecisionTreeClassifier          0.9817         0.7654         0.9879   \n",
       "5              GaussianNB          0.7374         0.7598         0.6612   \n",
       "6           SGDClassifier          0.6503         0.6313         0.5478   \n",
       "\n",
       "   Test F-score  \n",
       "0        0.7708  \n",
       "1        0.7541  \n",
       "8        0.7443  \n",
       "4        0.7231  \n",
       "2        0.7167  \n",
       "7        0.7165  \n",
       "3        0.7029  \n",
       "5        0.7018  \n",
       "6        0.5263  "
      ]
     },
     "execution_count": 39,
     "metadata": {},
     "output_type": "execute_result"
    }
   ],
   "source": [
    "model_df2"
   ]
  },
  {
   "cell_type": "markdown",
   "id": "2afa205e",
   "metadata": {},
   "source": [
    "#### Since SVC is based on Eucledian distances and we have cateforical predictors, we will not use SVC. Next best model is, Logistic Regression as it has the next highest Test F-score"
   ]
  },
  {
   "cell_type": "markdown",
   "id": "9e110dbb",
   "metadata": {},
   "source": [
    "#### Hyperparameter tuning"
   ]
  },
  {
   "cell_type": "code",
   "execution_count": 40,
   "id": "bb34a454",
   "metadata": {},
   "outputs": [
    {
     "name": "stdout",
     "output_type": "stream",
     "text": [
      "Fitting 5 folds for each of 80 candidates, totalling 400 fits\n"
     ]
    },
    {
     "data": {
      "text/plain": [
       "GridSearchCV(estimator=LogisticRegression(random_state=100), n_jobs=-2,\n",
       "             param_grid={'C': array([1.00000000e-04, 2.63665090e-04, 6.95192796e-04, 1.83298071e-03,\n",
       "       4.83293024e-03, 1.27427499e-02, 3.35981829e-02, 8.85866790e-02,\n",
       "       2.33572147e-01, 6.15848211e-01, 1.62377674e+00, 4.28133240e+00,\n",
       "       1.12883789e+01, 2.97635144e+01, 7.84759970e+01, 2.06913808e+02,\n",
       "       5.45559478e+02, 1.43844989e+03, 3.79269019e+03, 1.00000000e+04]),\n",
       "                         'penalty': ['l2'],\n",
       "                         'solver': ['lbfgs', 'liblinear', 'sag', 'saga']},\n",
       "             verbose=3)"
      ]
     },
     "execution_count": 40,
     "metadata": {},
     "output_type": "execute_result"
    }
   ],
   "source": [
    "# defining parameter range\n",
    "param_grid =  {'penalty' : ['l2'],\n",
    "               'solver' : ['lbfgs', 'liblinear', 'sag', 'saga'],\n",
    "               'C': np.logspace(-4, 4, 20)}\n",
    "  \n",
    "grid = GridSearchCV(LogisticRegression(random_state=100), param_grid, refit = True, verbose = 3, n_jobs = -2)\n",
    "  \n",
    "# fitting the model for grid search\n",
    "grid.fit(X_train, y_train)"
   ]
  },
  {
   "cell_type": "code",
   "execution_count": 41,
   "id": "5eccadae",
   "metadata": {},
   "outputs": [
    {
     "name": "stdout",
     "output_type": "stream",
     "text": [
      "{'C': 1.623776739188721, 'penalty': 'l2', 'solver': 'lbfgs'}\n",
      "LogisticRegression(C=1.623776739188721, random_state=100)\n"
     ]
    }
   ],
   "source": [
    "# best parameter after tuning\n",
    "print(grid.best_params_)\n",
    "  \n",
    "# how our model looks after hyper-parameter tuning?\n",
    "print(grid.best_estimator_)"
   ]
  },
  {
   "cell_type": "code",
   "execution_count": 42,
   "id": "243feb97",
   "metadata": {},
   "outputs": [
    {
     "name": "stdout",
     "output_type": "stream",
     "text": [
      "Train Accuracy: 0.7992\n",
      "Test Accuracy: 0.7933\n",
      "Train F-score: 0.7433\n",
      "Test F-score: 0.7443\n"
     ]
    }
   ],
   "source": [
    "predictions_test = grid.predict(X_test)\n",
    "predictions_train = grid.predict(X_train)\n",
    "print(\"Train Accuracy: \" + str(round(accuracy_score(y_train, predictions_train),4)))\n",
    "print(\"Test Accuracy: \" + str(round(accuracy_score(y_test, predictions_test),4)))\n",
    "print(\"Train F-score: \" + str(round(fbeta_score(y_train, predictions_train, beta = 0.5),4)))\n",
    "print(\"Test F-score: \" + str(round(fbeta_score(y_test, predictions_test, beta = 0.5),4)))"
   ]
  },
  {
   "cell_type": "markdown",
   "id": "1320044b",
   "metadata": {},
   "source": [
    "#### Saving the pickle file"
   ]
  },
  {
   "cell_type": "code",
   "execution_count": 43,
   "id": "37944eaa",
   "metadata": {},
   "outputs": [],
   "source": [
    "with open('tuned_classifier.pkl','wb') as f:\n",
    "    pickle.dump(grid,f)"
   ]
  },
  {
   "cell_type": "markdown",
   "id": "0a246564",
   "metadata": {},
   "source": [
    "## Holdout Test set"
   ]
  },
  {
   "cell_type": "code",
   "execution_count": 37,
   "id": "df417c0c",
   "metadata": {},
   "outputs": [],
   "source": [
    "titanic_test = pd.read_csv('Titanic Survival\\\\holdout_test.csv')"
   ]
  },
  {
   "cell_type": "code",
   "execution_count": 38,
   "id": "388af821",
   "metadata": {},
   "outputs": [
    {
     "data": {
      "text/html": [
       "<div>\n",
       "<style scoped>\n",
       "    .dataframe tbody tr th:only-of-type {\n",
       "        vertical-align: middle;\n",
       "    }\n",
       "\n",
       "    .dataframe tbody tr th {\n",
       "        vertical-align: top;\n",
       "    }\n",
       "\n",
       "    .dataframe thead th {\n",
       "        text-align: right;\n",
       "    }\n",
       "</style>\n",
       "<table border=\"1\" class=\"dataframe\">\n",
       "  <thead>\n",
       "    <tr style=\"text-align: right;\">\n",
       "      <th></th>\n",
       "      <th>Survived</th>\n",
       "      <th>PassengerId</th>\n",
       "      <th>Pclass</th>\n",
       "      <th>Name</th>\n",
       "      <th>Sex</th>\n",
       "      <th>Age</th>\n",
       "      <th>SibSp</th>\n",
       "      <th>Parch</th>\n",
       "      <th>Ticket</th>\n",
       "      <th>Fare</th>\n",
       "      <th>Cabin</th>\n",
       "      <th>Embarked</th>\n",
       "    </tr>\n",
       "  </thead>\n",
       "  <tbody>\n",
       "    <tr>\n",
       "      <th>0</th>\n",
       "      <td>NaN</td>\n",
       "      <td>892</td>\n",
       "      <td>3</td>\n",
       "      <td>Kelly, Mr. James</td>\n",
       "      <td>male</td>\n",
       "      <td>34.5</td>\n",
       "      <td>0</td>\n",
       "      <td>0</td>\n",
       "      <td>330911</td>\n",
       "      <td>7.8292</td>\n",
       "      <td>NaN</td>\n",
       "      <td>Q</td>\n",
       "    </tr>\n",
       "    <tr>\n",
       "      <th>1</th>\n",
       "      <td>NaN</td>\n",
       "      <td>893</td>\n",
       "      <td>3</td>\n",
       "      <td>Wilkes, Mrs. James (Ellen Needs)</td>\n",
       "      <td>female</td>\n",
       "      <td>47.0</td>\n",
       "      <td>1</td>\n",
       "      <td>0</td>\n",
       "      <td>363272</td>\n",
       "      <td>7.0000</td>\n",
       "      <td>NaN</td>\n",
       "      <td>S</td>\n",
       "    </tr>\n",
       "  </tbody>\n",
       "</table>\n",
       "</div>"
      ],
      "text/plain": [
       "   Survived  PassengerId  Pclass                              Name     Sex  \\\n",
       "0       NaN          892       3                  Kelly, Mr. James    male   \n",
       "1       NaN          893       3  Wilkes, Mrs. James (Ellen Needs)  female   \n",
       "\n",
       "    Age  SibSp  Parch  Ticket    Fare Cabin Embarked  \n",
       "0  34.5      0      0  330911  7.8292   NaN        Q  \n",
       "1  47.0      1      0  363272  7.0000   NaN        S  "
      ]
     },
     "execution_count": 38,
     "metadata": {},
     "output_type": "execute_result"
    }
   ],
   "source": [
    "titanic_test.head(2)"
   ]
  },
  {
   "cell_type": "code",
   "execution_count": 39,
   "id": "3ad4a661",
   "metadata": {},
   "outputs": [
    {
     "data": {
      "text/plain": [
       "(418, 12)"
      ]
     },
     "execution_count": 39,
     "metadata": {},
     "output_type": "execute_result"
    }
   ],
   "source": [
    "titanic_test.shape"
   ]
  },
  {
   "cell_type": "markdown",
   "id": "2a22bc4f",
   "metadata": {},
   "source": [
    "#### Null percentage of columns"
   ]
  },
  {
   "cell_type": "code",
   "execution_count": 40,
   "id": "89abec2e",
   "metadata": {},
   "outputs": [
    {
     "data": {
      "text/plain": [
       "Survived       100.00\n",
       "PassengerId      0.00\n",
       "Pclass           0.00\n",
       "Name             0.00\n",
       "Sex              0.00\n",
       "Age             20.57\n",
       "SibSp            0.00\n",
       "Parch            0.00\n",
       "Ticket           0.00\n",
       "Fare             0.24\n",
       "Cabin           78.23\n",
       "Embarked         0.00\n",
       "dtype: float64"
      ]
     },
     "execution_count": 40,
     "metadata": {},
     "output_type": "execute_result"
    }
   ],
   "source": [
    "((titanic_test.isnull().sum()*100)/titanic_test.shape[0]).round(2)"
   ]
  },
  {
   "cell_type": "markdown",
   "id": "108a05e8",
   "metadata": {},
   "source": [
    "#### There are 3 columns with missing values:\n",
    "* Age\n",
    "* Cabin\n",
    "* Fare"
   ]
  },
  {
   "cell_type": "markdown",
   "id": "ce3685e3",
   "metadata": {},
   "source": [
    "### Handling Nulls"
   ]
  },
  {
   "cell_type": "markdown",
   "id": "0bd1c4ba",
   "metadata": {},
   "source": [
    "#### Imputing \"Age\" with mean"
   ]
  },
  {
   "cell_type": "code",
   "execution_count": 41,
   "id": "a58b0e81",
   "metadata": {},
   "outputs": [],
   "source": [
    "titanic_test['Age'].fillna(int(titanic_test['Age'].mean()), inplace=True)"
   ]
  },
  {
   "cell_type": "markdown",
   "id": "267cf220",
   "metadata": {},
   "source": [
    "#### Dropping column \"Cabin\" since it is ~77% null values"
   ]
  },
  {
   "cell_type": "code",
   "execution_count": 42,
   "id": "af8e51bb",
   "metadata": {},
   "outputs": [],
   "source": [
    "titanic_test.drop(columns = ['Cabin'], inplace = True)"
   ]
  },
  {
   "cell_type": "markdown",
   "id": "a05661b5",
   "metadata": {},
   "source": [
    "#### Imputing \"Fare\" with mean"
   ]
  },
  {
   "cell_type": "code",
   "execution_count": 43,
   "id": "e8b74048",
   "metadata": {},
   "outputs": [],
   "source": [
    "titanic_test['Fare'].fillna(int(titanic_test['Fare'].mean()), inplace=True)"
   ]
  },
  {
   "cell_type": "markdown",
   "id": "5a60a1eb",
   "metadata": {},
   "source": [
    "#### Performing same operations as training set"
   ]
  },
  {
   "cell_type": "code",
   "execution_count": 44,
   "id": "cee17e67",
   "metadata": {},
   "outputs": [],
   "source": [
    "titanic_test.drop(columns = ['Name','Ticket'], inplace = True)"
   ]
  },
  {
   "cell_type": "code",
   "execution_count": 45,
   "id": "47812344",
   "metadata": {},
   "outputs": [],
   "source": [
    "titanic_test['family'] = titanic_test['SibSp'] + titanic_test['Parch']"
   ]
  },
  {
   "cell_type": "code",
   "execution_count": 46,
   "id": "e0db0eca",
   "metadata": {},
   "outputs": [],
   "source": [
    "titanic_test['is_alone'] = titanic_test['family'].apply(lambda x: 1 if x == 0 else 0)"
   ]
  },
  {
   "cell_type": "code",
   "execution_count": 47,
   "id": "feee3906",
   "metadata": {},
   "outputs": [],
   "source": [
    "titanic_test['is_child'] = titanic_test['Age'].apply(lambda x: 1 if x <= 15 else 0)"
   ]
  },
  {
   "cell_type": "code",
   "execution_count": 48,
   "id": "fc4794ea",
   "metadata": {},
   "outputs": [],
   "source": [
    "titanic_test['is_female'] = titanic_test['Sex'].map({'male':0, 'female':1})"
   ]
  },
  {
   "cell_type": "code",
   "execution_count": 49,
   "id": "a9a1141b",
   "metadata": {},
   "outputs": [],
   "source": [
    "titanic_test = pd.get_dummies(titanic_test, columns=['Embarked'], prefix = 'is')"
   ]
  },
  {
   "cell_type": "code",
   "execution_count": 50,
   "id": "bb48e5be",
   "metadata": {},
   "outputs": [],
   "source": [
    "titanic_test.drop(columns = ['Parch','SibSp', 'Sex', 'family'], inplace = True)"
   ]
  },
  {
   "cell_type": "code",
   "execution_count": 58,
   "id": "bce416bc",
   "metadata": {},
   "outputs": [],
   "source": [
    "scaler = StandardScaler()\n",
    "titanic_test_scaled = pd.DataFrame(data = titanic_test)\n",
    "titanic_test_scaled[numerical] = scaler.fit_transform(titanic_test[numerical])"
   ]
  },
  {
   "cell_type": "code",
   "execution_count": 59,
   "id": "43555e12",
   "metadata": {},
   "outputs": [],
   "source": [
    "X_test_holdout = titanic_test_scaled.iloc[:,2:]"
   ]
  },
  {
   "cell_type": "code",
   "execution_count": 60,
   "id": "fc5b25f2",
   "metadata": {},
   "outputs": [
    {
     "data": {
      "text/html": [
       "<div>\n",
       "<style scoped>\n",
       "    .dataframe tbody tr th:only-of-type {\n",
       "        vertical-align: middle;\n",
       "    }\n",
       "\n",
       "    .dataframe tbody tr th {\n",
       "        vertical-align: top;\n",
       "    }\n",
       "\n",
       "    .dataframe thead th {\n",
       "        text-align: right;\n",
       "    }\n",
       "</style>\n",
       "<table border=\"1\" class=\"dataframe\">\n",
       "  <thead>\n",
       "    <tr style=\"text-align: right;\">\n",
       "      <th></th>\n",
       "      <th>Pclass</th>\n",
       "      <th>Age</th>\n",
       "      <th>Fare</th>\n",
       "      <th>is_alone</th>\n",
       "      <th>is_child</th>\n",
       "      <th>is_female</th>\n",
       "      <th>is_C</th>\n",
       "      <th>is_Q</th>\n",
       "      <th>is_S</th>\n",
       "    </tr>\n",
       "  </thead>\n",
       "  <tbody>\n",
       "    <tr>\n",
       "      <th>0</th>\n",
       "      <td>0.873482</td>\n",
       "      <td>0.339424</td>\n",
       "      <td>-0.498380</td>\n",
       "      <td>1</td>\n",
       "      <td>0</td>\n",
       "      <td>0</td>\n",
       "      <td>0</td>\n",
       "      <td>1</td>\n",
       "      <td>0</td>\n",
       "    </tr>\n",
       "    <tr>\n",
       "      <th>1</th>\n",
       "      <td>0.873482</td>\n",
       "      <td>1.329924</td>\n",
       "      <td>-0.513247</td>\n",
       "      <td>0</td>\n",
       "      <td>0</td>\n",
       "      <td>1</td>\n",
       "      <td>0</td>\n",
       "      <td>0</td>\n",
       "      <td>1</td>\n",
       "    </tr>\n",
       "  </tbody>\n",
       "</table>\n",
       "</div>"
      ],
      "text/plain": [
       "     Pclass       Age      Fare  is_alone  is_child  is_female  is_C  is_Q  \\\n",
       "0  0.873482  0.339424 -0.498380         1         0          0     0     1   \n",
       "1  0.873482  1.329924 -0.513247         0         0          1     0     0   \n",
       "\n",
       "   is_S  \n",
       "0     0  \n",
       "1     1  "
      ]
     },
     "execution_count": 60,
     "metadata": {},
     "output_type": "execute_result"
    }
   ],
   "source": [
    "X_test_holdout.head(2)"
   ]
  },
  {
   "cell_type": "markdown",
   "id": "e1896515",
   "metadata": {},
   "source": [
    "#### Loading the pickle file"
   ]
  },
  {
   "cell_type": "code",
   "execution_count": 61,
   "id": "3b3ec157",
   "metadata": {},
   "outputs": [],
   "source": [
    "with open('tuned_classifier.pkl', 'rb') as f:\n",
    "    tuned_model = pickle.load(f)"
   ]
  },
  {
   "cell_type": "markdown",
   "id": "224993f7",
   "metadata": {},
   "source": [
    "#### Making Predictions"
   ]
  },
  {
   "cell_type": "code",
   "execution_count": 62,
   "id": "cf690611",
   "metadata": {},
   "outputs": [],
   "source": [
    "predictions = tuned_model.predict(X_test_holdout)"
   ]
  },
  {
   "cell_type": "code",
   "execution_count": 63,
   "id": "2ad637fc",
   "metadata": {},
   "outputs": [],
   "source": [
    "predict = pd.DataFrame({'PassengerId':titanic_test_scaled['PassengerId'],\n",
    "                        'Survived':predictions})"
   ]
  },
  {
   "cell_type": "code",
   "execution_count": 64,
   "id": "e7ef0f3a",
   "metadata": {},
   "outputs": [],
   "source": [
    "predict.to_csv('Titanic results from Devdutt Sharma.csv', index = False)"
   ]
  }
 ],
 "metadata": {
  "kernelspec": {
   "display_name": "Python 3 (ipykernel)",
   "language": "python",
   "name": "python3"
  },
  "language_info": {
   "codemirror_mode": {
    "name": "ipython",
    "version": 3
   },
   "file_extension": ".py",
   "mimetype": "text/x-python",
   "name": "python",
   "nbconvert_exporter": "python",
   "pygments_lexer": "ipython3",
   "version": "3.9.12"
  }
 },
 "nbformat": 4,
 "nbformat_minor": 5
}
